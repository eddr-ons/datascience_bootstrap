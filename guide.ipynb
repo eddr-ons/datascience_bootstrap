{
 "cells": [
  {
   "cell_type": "markdown",
   "metadata": {},
   "source": [
    "# Project setup\n",
    "\n",
    "This is a notebook that details the steps that I take to create a data science project complete with environments, packages, folder structrue and git. It exists to remind myself what I do to set things up and also may help other people to follow and tweak this as they see fit.\n",
    "\n",
    "This uses\n",
    "- cookiecutter datascience for folder structure\n",
    "- pipenv for package and environment management\n",
    "\n",
    "To get the new environment working, it is assumed you have jupyter notebook already installed on your user within linux and gets jupyter notebook using the pipenv environment you create.\n",
    "\n",
    "I had some issues with pipenv giving \"TypeError: 'module' object is not callable\", however setting pipenv to use pip 18.0 appears to work. I used this command to do this as suggested here: https://github.com/pypa/pipenv/issues/2871. There are a few other suggestions if this does not work."
   ]
  },
  {
   "cell_type": "code",
   "execution_count": null,
   "metadata": {},
   "outputs": [],
   "source": [
    "%%bash\n",
    "pipenv run pip install pip==18.0"
   ]
  },
  {
   "cell_type": "markdown",
   "metadata": {},
   "source": [
    "## Folder structure\n",
    "\n",
    "It is worth noting before we go any further that none of this is binding. Adapt this to suit you and your project (conservatively), this is here give you something that works for a general project to save you time, not tell you how to work.\n",
    "\n",
    "We can use a standard folder structure so that it is easy to understand where everything is. For this we use cookiecutter.\n",
    "\n",
    "Why would we want to use this for our projects? Well it gives a number of advantages...\n",
    "\n",
    "- It gives us a workable structure in one go and saves time meaning we can get on with doing actual work\n",
    "- It encourages good practice and a sensible workflow with modular code, explorations and outputs\n",
    "- Well organised code and file structure helps the project document itself saving you time and gives and helps people get up to speed with your work, including future you!\n",
    "\n",
    "You can have a look a documentation discussing this structure here:http://drivendata.github.io/cookiecutter-data-science/#cookiecutter-data-science but there are some important principles that this follows below.\n",
    "\n",
    "### Data is immutable\n",
    "This allows your work to be replicated if someone has the original data and the code that processes the data\n",
    "\n",
    "### Notebooks are for hacky exploration and outputs\n",
    "They are not that great for the heavy lifting of processing your data science projects. For that use .py files as you can import these into multiple notebooks for reuse and document them as well as use tools like pyflake and unittest to check your code and make sure it is of high quality.\n",
    "\n",
    "### Analysis is linear and deterministic\n",
    "What this means is there are a number of steps to follow in a set order to get your outputs build from the environment.  If your code is adequately documented and well organised, then anyone else should be able to follow these steps to run your analysis and replicate your results.\n",
    "\n",
    "### Always use a virtual environment \n",
    "This is to avoid the \"it used to work\" or \"it works on my machine\" problems. Basically if you want to share your code or use it again in future, use an environment. I use pipenv as it wraps up pip and virtualenv into one package which I think makes things easy and simple to use. This should ensure you are using the same package versions in your code.\n",
    "\n",
    "### Change the layout conservatively\n",
    "Do you really need to change the structure? really really? Remember any change makes your project more opaque and less understandable as it is a devates from what people might expect by reading the cookiecutter documentation here."
   ]
  },
  {
   "cell_type": "markdown",
   "metadata": {},
   "source": [
    "## Step one - download and set up cookiecutter datasciene project\n",
    "\n",
    "Before you start, go to your projects folder with the terminal using the 'cd' command\n",
    "\n",
    "We install cookiecutter if we haven't got it on our user. We do this with pip as we don't want it to create a new environment. Cookiecutter will ask you questions like the name of your project and the like. Fill in as neccesary.\n",
    "\n",
    "It will then create a folder for you with its structure."
   ]
  },
  {
   "cell_type": "code",
   "execution_count": null,
   "metadata": {},
   "outputs": [],
   "source": [
    "%%bash\n",
    "\n",
    "pip install cookiecutter\n",
    "cookiecutter https://github.com/drivendata/cookiecutter-data-science"
   ]
  },
  {
   "cell_type": "markdown",
   "metadata": {},
   "source": [
    "## Step two - clone this repo\n",
    "Navigate into this folder that you've created with cd <folder name> if you can't remember use ls to view the folders.\n",
    "\n",
    "Clone this repo into your new folder where you are going to work on this project"
   ]
  },
  {
   "cell_type": "code",
   "execution_count": null,
   "metadata": {},
   "outputs": [],
   "source": [
    "%%bash\n",
    "\n",
    "git init \n",
    "git remote add origin PATH/TO/REPO \n",
    "git fetch \n",
    "git checkout -t origin/master"
   ]
  },
  {
   "cell_type": "markdown",
   "metadata": {},
   "source": [
    "## Step three - Set. up. everything.\n",
    "\n",
    "Enter the created folder and run this bash script to install cookiecutter datascience and a bunch of useful data science python modules, kind of slimlar to anaconda install, so you're ready to go. Since you are useing pipenv, this will set up an environment for you with these packages as well as the cookiecutter folder structure.\n",
    "\n",
    "This bit should take a while, so make a coffee or something!\n",
    "\n",
    "If you want you can edit the bootstrap.sh file with a text editor to cut down the packages required."
   ]
  },
  {
   "cell_type": "code",
   "execution_count": null,
   "metadata": {},
   "outputs": [],
   "source": [
    "%%bash\n",
    "bash bootstrap.sh"
   ]
  },
  {
   "cell_type": "markdown",
   "metadata": {},
   "source": [
    "## Step four - get the name of your pipenv environment\n",
    "\n",
    "First we need to pipenv install ipykernel in the environment. But, our bash script has already done that so we can skip that step and just get then name of the environment. If we go to the folder in the terminal and run the  command `pipenv shell`in the command line we see that it says something like <env-name> user@machine:~/path/to/folder we need the <env-name> for the next bit so exit out of the environment and type in the following command to add the environment to jupyter. For this to work, you need to replace <env-name> with the environment name."
   ]
  },
  {
   "cell_type": "code",
   "execution_count": null,
   "metadata": {},
   "outputs": [],
   "source": [
    "%%bash\n",
    "pipenv shell\n",
    "python -m ipykernel install --user --name=<env-name>"
   ]
  },
  {
   "cell_type": "markdown",
   "metadata": {},
   "source": [
    "## Step five\n",
    "Remove the origin for the datascience bootstrap code."
   ]
  },
  {
   "cell_type": "code",
   "execution_count": null,
   "metadata": {},
   "outputs": [],
   "source": [
    "git remote rm origin"
   ]
  },
  {
   "cell_type": "markdown",
   "metadata": {},
   "source": [
    "## Step six - create a new repo and push\n",
    "\n",
    "Create a new repo in git then commit"
   ]
  },
  {
   "cell_type": "code",
   "execution_count": null,
   "metadata": {},
   "outputs": [],
   "source": [
    "%%bash\n",
    "git init\n",
    "git add .\n",
    "git commit -m\n",
    "git push -u origin master"
   ]
  }
 ],
 "metadata": {
  "kernelspec": {
   "display_name": "Python 3",
   "language": "python",
   "name": "python3"
  },
  "language_info": {
   "codemirror_mode": {
    "name": "ipython",
    "version": 3
   },
   "file_extension": ".py",
   "mimetype": "text/x-python",
   "name": "python",
   "nbconvert_exporter": "python",
   "pygments_lexer": "ipython3",
   "version": "3.6.4"
  }
 },
 "nbformat": 4,
 "nbformat_minor": 2
}
